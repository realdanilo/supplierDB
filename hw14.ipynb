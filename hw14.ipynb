{
  "nbformat": 4,
  "nbformat_minor": 0,
  "metadata": {
    "colab": {
      "name": "cis235_hw14_dmera.ipynb",
      "provenance": [],
      "collapsed_sections": []
    },
    "kernelspec": {
      "name": "python3",
      "display_name": "Python 3"
    }
  },
  "cells": [
    {
      "cell_type": "code",
      "metadata": {
        "id": "clyX97GNe-YN",
        "colab": {
          "base_uri": "https://localhost:8080/",
          "height": 172
        },
        "outputId": "0a2643af-706d-4e82-f199-4295930f4c08"
      },
      "source": [
        "# Part 0.1\n",
        "# This only needs to be run the very first time you set up this project\n",
        "# If you see the message that states \"Requirement already satisfied: [...]\"\n",
        "# Then you do not need to run this cell\n",
        "!pip install pymysql\n",
        "\n"
      ],
      "execution_count": null,
      "outputs": [
        {
          "output_type": "stream",
          "text": [
            "Collecting pymysql\n",
            "\u001b[?25l  Downloading https://files.pythonhosted.org/packages/1a/ea/dd9c81e2d85efd03cfbf808736dd055bd9ea1a78aea9968888b1055c3263/PyMySQL-0.10.1-py2.py3-none-any.whl (47kB)\n",
            "\r\u001b[K     |██████▉                         | 10kB 11.9MB/s eta 0:00:01\r\u001b[K     |█████████████▊                  | 20kB 17.0MB/s eta 0:00:01\r\u001b[K     |████████████████████▌           | 30kB 21.1MB/s eta 0:00:01\r\u001b[K     |███████████████████████████▍    | 40kB 17.9MB/s eta 0:00:01\r\u001b[K     |████████████████████████████████| 51kB 4.6MB/s \n",
            "\u001b[?25hInstalling collected packages: pymysql\n",
            "Successfully installed pymysql-0.10.1\n"
          ],
          "name": "stdout"
        },
        {
          "output_type": "execute_result",
          "data": {
            "application/vnd.google.colaboratory.intrinsic+json": {
              "type": "string"
            },
            "text/plain": [
              "\"\\nDon't forget to add Chad's Excel Workbook file to your Notebook project files.\\nIf you are working in Colab, it needs to be done every time you launch the \\nNotebook file. It needs to be sitting in your project files folder in order for \\nthe code below to work!\\n\""
            ]
          },
          "metadata": {
            "tags": []
          },
          "execution_count": 1
        }
      ]
    },
    {
      "cell_type": "code",
      "metadata": {
        "id": "6TyVndO0vgxr"
      },
      "source": [
        "# Part 1\n",
        "# NOTE: You must run this cell before you run any of the subsequent cells!\n",
        "\n",
        "\n",
        "\n",
        "from sqlalchemy import create_engine\n",
        "import pandas as pd"
      ],
      "execution_count": null,
      "outputs": []
    },
    {
      "cell_type": "code",
      "metadata": {
        "id": "hEejBEeRfR-B",
        "colab": {
          "base_uri": "https://localhost:8080/",
          "height": 51
        },
        "outputId": "97af3edd-a89a-4b26-e571-f0f643f54c66"
      },
      "source": [
        "# Part 2\n",
        "\n",
        "database_connection = create_engine('db_connection_here', echo=False)\n",
        "\"\"\"\n",
        "Run this cell, and then all the code you write in the cells below will have \n",
        "access to your databaseConnection variable!\n",
        "\"\"\""
      ],
      "execution_count": null,
      "outputs": [
        {
          "output_type": "execute_result",
          "data": {
            "application/vnd.google.colaboratory.intrinsic+json": {
              "type": "string"
            },
            "text/plain": [
              "'\\nRun this cell, and then all the code you write in the cells below will have \\naccess to your databaseConnection variable!\\n'"
            ]
          },
          "metadata": {
            "tags": []
          },
          "execution_count": 4
        }
      ]
    },
    {
      "cell_type": "code",
      "metadata": {
        "id": "fEY3QJfZiZuB",
        "colab": {
          "base_uri": "https://localhost:8080/"
        },
        "outputId": "607baace-aeee-4d29-d4cb-de65fc482350"
      },
      "source": [
        "# Part 3\n",
        "\n",
        "my_select_query = \"select companyname, contactname, phone, homepage from Suppliers;\"\n",
        "\n",
        "resulting_rows = pd.read_sql_query(my_select_query, database_connection)\n",
        "\n",
        "resulting_rows.info()"
      ],
      "execution_count": null,
      "outputs": [
        {
          "output_type": "stream",
          "text": [
            "<class 'pandas.core.frame.DataFrame'>\n",
            "RangeIndex: 29 entries, 0 to 28\n",
            "Data columns (total 4 columns):\n",
            " #   Column       Non-Null Count  Dtype \n",
            "---  ------       --------------  ----- \n",
            " 0   companyname  29 non-null     object\n",
            " 1   contactname  29 non-null     object\n",
            " 2   phone        29 non-null     object\n",
            " 3   homepage     5 non-null      object\n",
            "dtypes: object(4)\n",
            "memory usage: 1.0+ KB\n"
          ],
          "name": "stdout"
        }
      ]
    },
    {
      "cell_type": "code",
      "metadata": {
        "id": "epuf100QiuVM",
        "colab": {
          "base_uri": "https://localhost:8080/",
          "height": 202
        },
        "outputId": "28d0a9a8-813b-4406-f2c6-c31fbf12b8a5"
      },
      "source": [
        "# Part 4\n",
        "\n",
        "chad_sheet = pd.read_excel(\"/content/SupplierWebsites.xlsx\") \n",
        "\n",
        "\n",
        "chad_sheet.head()\n"
      ],
      "execution_count": null,
      "outputs": [
        {
          "output_type": "execute_result",
          "data": {
            "text/html": [
              "<div>\n",
              "<style scoped>\n",
              "    .dataframe tbody tr th:only-of-type {\n",
              "        vertical-align: middle;\n",
              "    }\n",
              "\n",
              "    .dataframe tbody tr th {\n",
              "        vertical-align: top;\n",
              "    }\n",
              "\n",
              "    .dataframe thead th {\n",
              "        text-align: right;\n",
              "    }\n",
              "</style>\n",
              "<table border=\"1\" class=\"dataframe\">\n",
              "  <thead>\n",
              "    <tr style=\"text-align: right;\">\n",
              "      <th></th>\n",
              "      <th>Company</th>\n",
              "      <th>URL</th>\n",
              "    </tr>\n",
              "  </thead>\n",
              "  <tbody>\n",
              "    <tr>\n",
              "      <th>0</th>\n",
              "      <td>Exotic Liquids</td>\n",
              "      <td>http://www.missingvalue.com</td>\n",
              "    </tr>\n",
              "    <tr>\n",
              "      <th>1</th>\n",
              "      <td>New Orleans Cajun Delights</td>\n",
              "      <td>#CAJUN.HTM#</td>\n",
              "    </tr>\n",
              "    <tr>\n",
              "      <th>2</th>\n",
              "      <td>Grandma Kelly's Homestead</td>\n",
              "      <td>http://www.missingvalue.com</td>\n",
              "    </tr>\n",
              "    <tr>\n",
              "      <th>3</th>\n",
              "      <td>Tokyo Traders</td>\n",
              "      <td>http://www.missingvalue.com</td>\n",
              "    </tr>\n",
              "    <tr>\n",
              "      <th>4</th>\n",
              "      <td>Cooperativa de Quesos 'Las Cabras'</td>\n",
              "      <td>http://www.missingvalue.com</td>\n",
              "    </tr>\n",
              "  </tbody>\n",
              "</table>\n",
              "</div>"
            ],
            "text/plain": [
              "                              Company                          URL\n",
              "0                      Exotic Liquids  http://www.missingvalue.com\n",
              "1          New Orleans Cajun Delights                  #CAJUN.HTM#\n",
              "2           Grandma Kelly's Homestead  http://www.missingvalue.com\n",
              "3                       Tokyo Traders  http://www.missingvalue.com\n",
              "4  Cooperativa de Quesos 'Las Cabras'  http://www.missingvalue.com"
            ]
          },
          "metadata": {
            "tags": []
          },
          "execution_count": 12
        }
      ]
    },
    {
      "cell_type": "code",
      "metadata": {
        "id": "lGpQWyyhi-C1",
        "colab": {
          "base_uri": "https://localhost:8080/"
        },
        "outputId": "4f34f337-f2cf-4f07-a5d6-e5f02a7237f1"
      },
      "source": [
        "# Part 5\n",
        "\n",
        "list_of_suppliers = list(resulting_rows.T.to_dict().values())\n",
        "\n",
        "# list of dictionaries/obj\n",
        "# print(list_of_suppliers[1:3])\n",
        "\n",
        "print(list_of_suppliers[0])\n"
      ],
      "execution_count": null,
      "outputs": [
        {
          "output_type": "stream",
          "text": [
            "{'companyname': 'Exotic Liquids', 'contactname': 'Charlotte Cooper', 'phone': '(171) 555-2222', 'homepage': None}\n"
          ],
          "name": "stdout"
        }
      ]
    },
    {
      "cell_type": "code",
      "metadata": {
        "id": "H7qsCK4WjW9E",
        "colab": {
          "base_uri": "https://localhost:8080/",
          "height": 607
        },
        "outputId": "e7cd5d03-a370-4f00-c628-776f3ee32fd0"
      },
      "source": [
        "# Part 6\n",
        "\n",
        "for supplier in list_of_suppliers:\n",
        "  print(f\"Company Name: {supplier['companyname']}\")\n",
        "\n"
      ],
      "execution_count": null,
      "outputs": [
        {
          "output_type": "stream",
          "text": [
            "Company Name: Exotic Liquids\n",
            "Company Name: New Orleans Cajun Delights\n",
            "Company Name: Grandma Kelly's Homestead\n",
            "Company Name: Tokyo Traders\n",
            "Company Name: Cooperativa de Quesos 'Las Cabras'\n",
            "Company Name: Mayumi's\n",
            "Company Name: Pavlova, Ltd.\n",
            "Company Name: Specialty Biscuits, Ltd.\n",
            "Company Name: PB Knäckebröd AB\n",
            "Company Name: Refrescos Americanas LTDA\n",
            "Company Name: Heli Süßwaren GmbH & Co. KG\n",
            "Company Name: Plutzer Lebensmittelgroßmärkte AG\n",
            "Company Name: Nord-Ost-Fisch Handelsgesellschaft mbH\n",
            "Company Name: Formaggi Fortini s.r.l.\n",
            "Company Name: Norske Meierier\n",
            "Company Name: Bigfoot Breweries\n",
            "Company Name: Svensk Sjöföda AB\n",
            "Company Name: Aux joyeux ecclésiastiques\n",
            "Company Name: New England Seafood Cannery\n",
            "Company Name: Leka Trading\n",
            "Company Name: Lyngbysild\n",
            "Company Name: Zaanse Snoepfabriek\n",
            "Company Name: Karkki Oy\n",
            "Company Name: G'day, Mate\n",
            "Company Name: Ma Maison\n",
            "Company Name: Pasta Buttini s.r.l.\n",
            "Company Name: Escargots Nouveaux\n",
            "Company Name: Gai pâturage\n",
            "Company Name: Forêts d'érables\n"
          ],
          "name": "stdout"
        },
        {
          "output_type": "execute_result",
          "data": {
            "application/vnd.google.colaboratory.intrinsic+json": {
              "type": "string"
            },
            "text/plain": [
              "\"\\nAbove you saw that a dictionary is just a collection of keys and values. In \\nsquare brackets you can refer to any key for a dictionary, and what you'll get \\nback is the value associated with that key. \\n\\nDictionaries are cool and we'll dig into them more someday. But \\nwhat's important here is the pattern of the code above and how we: \\n  1. wanted to see the value of the CompanyName key, so we \\n  2. passed the key as text into square brackets similarly to how we pass an \\n     index as a number into the square brackets of a list to get the value that \\n     lives at that index\\n\\nRun this cell to see a list of company names!\\n\""
            ]
          },
          "metadata": {
            "tags": []
          },
          "execution_count": 16
        }
      ]
    },
    {
      "cell_type": "code",
      "metadata": {
        "id": "ifC_06wMjkRW",
        "colab": {
          "base_uri": "https://localhost:8080/"
        },
        "outputId": "a95db75a-9b32-4a7c-fce1-081373c69f73"
      },
      "source": [
        "# Part 7\n",
        "\n",
        "list_of_urls = list(chad_sheet.T.to_dict().values())\n",
        "\n",
        "# c as chad\n",
        "for c in list_of_urls:\n",
        "  print(f\"{c['Company']}: {c['URL']}\")\n",
        "\n"
      ],
      "execution_count": null,
      "outputs": [
        {
          "output_type": "stream",
          "text": [
            "Exotic Liquids: http://www.missingvalue.com\n",
            "New Orleans Cajun Delights: #CAJUN.HTM#\n",
            "Grandma Kelly's Homestead: http://www.missingvalue.com\n",
            "Tokyo Traders: http://www.missingvalue.com\n",
            "Cooperativa de Quesos 'Las Cabras': http://www.missingvalue.com\n",
            "Mayumi's: Mayumi's (on the World Wide Web)#http://www.microsoft.com/accessdev/sampleapps/mayumi.htm#\n",
            "Pavlova, Ltd.: http://www.missingvalue.com\n",
            "Specialty Biscuits, Ltd.: http://www.missingvalue.com\n",
            "PB KnÃƒÂ¤ckebrÃƒÂ¶d AB: http://www.missingvalue.com\n",
            "Refrescos Americanas LTDA: http://www.missingvalue.com\n",
            "Heli SÃƒÂ¼ÃƒÅ¸waren GmbH & Co. KG: http://www.missingvalue.com\n",
            "Plutzer LebensmittelgroÃƒÅ¸mÃƒÂ¤rkte AG: Plutzer (on the World Wide Web)#http://www.microsoft.com/accessdev/sampleapps/plutzer.htm#\n",
            "Nord-Ost-Fisch Handelsgesellschaft mbH: http://www.missingvalue.com\n",
            "Formaggi Fortini s.r.l.: #FORMAGGI.HTM#\n",
            "Norske Meierier: http://www.missingvalue.com\n",
            "Bigfoot Breweries: http://www.missingvalue.com\n",
            "Svensk SjÃƒÂ¶fÃƒÂ¶da AB: http://www.missingvalue.com\n",
            "Aux joyeux ecclÃƒÂ©siastiques: http://www.missingvalue.com\n",
            "New England Seafood Cannery: http://www.missingvalue.com\n",
            "Leka Trading: http://www.missingvalue.com\n",
            "Lyngbysild: http://www.missingvalue.com\n",
            "Zaanse Snoepfabriek: http://www.missingvalue.com\n",
            "Karkki Oy: http://www.missingvalue.com\n",
            "G'day, Mate: G'day Mate (on the World Wide Web)#http://www.microsoft.com/accessdev/sampleapps/gdaymate.htm#\n",
            "Ma Maison: http://www.missingvalue.com\n",
            "Pasta Buttini s.r.l.: http://www.missingvalue.com\n",
            "Escargots Nouveaux: http://www.missingvalue.com\n",
            "Gai pÃƒÂ¢turage: http://www.missingvalue.com\n",
            "ForÃƒÂªts d'ÃƒÂ©rables: http://www.missingvalue.com\n"
          ],
          "name": "stdout"
        }
      ]
    },
    {
      "cell_type": "code",
      "metadata": {
        "id": "rPRLxs5_j-zE",
        "colab": {
          "base_uri": "https://localhost:8080/"
        },
        "outputId": "9c326208-8892-41f3-8049-993dbf2cd947"
      },
      "source": [
        "# Part 8\n",
        "\n",
        "for dbRecord in list_of_suppliers:\n",
        "  #for <alias> in <the list where chad's data lives>:\n",
        "  for chadRecord in list_of_urls:\n",
        "    #if <the company names match>:\n",
        "    if(dbRecord['companyname'] == chadRecord['Company']):\n",
        "      dbRecord['homepage'] = chadRecord['URL']\n",
        "\n",
        "\n",
        "for supplier_record in list_of_suppliers:\n",
        "  print(f\"Company Name: {supplier_record['companyname']}, Homepage URL: {supplier_record['homepage']}\")"
      ],
      "execution_count": null,
      "outputs": [
        {
          "output_type": "stream",
          "text": [
            "Company Name: Exotic Liquids, Homepage URL: http://www.missingvalue.com\n",
            "Company Name: New Orleans Cajun Delights, Homepage URL: #CAJUN.HTM#\n",
            "Company Name: Grandma Kelly's Homestead, Homepage URL: http://www.missingvalue.com\n",
            "Company Name: Tokyo Traders, Homepage URL: http://www.missingvalue.com\n",
            "Company Name: Cooperativa de Quesos 'Las Cabras', Homepage URL: http://www.missingvalue.com\n",
            "Company Name: Mayumi's, Homepage URL: Mayumi's (on the World Wide Web)#http://www.microsoft.com/accessdev/sampleapps/mayumi.htm#\n",
            "Company Name: Pavlova, Ltd., Homepage URL: http://www.missingvalue.com\n",
            "Company Name: Specialty Biscuits, Ltd., Homepage URL: http://www.missingvalue.com\n",
            "Company Name: PB Knäckebröd AB, Homepage URL: None\n",
            "Company Name: Refrescos Americanas LTDA, Homepage URL: http://www.missingvalue.com\n",
            "Company Name: Heli Süßwaren GmbH & Co. KG, Homepage URL: None\n",
            "Company Name: Plutzer Lebensmittelgroßmärkte AG, Homepage URL: Plutzer (on the World Wide Web)#http://www.microsoft.com/accessdev/sampleapps/plutzer.htm#\n",
            "Company Name: Nord-Ost-Fisch Handelsgesellschaft mbH, Homepage URL: http://www.missingvalue.com\n",
            "Company Name: Formaggi Fortini s.r.l., Homepage URL: #FORMAGGI.HTM#\n",
            "Company Name: Norske Meierier, Homepage URL: http://www.missingvalue.com\n",
            "Company Name: Bigfoot Breweries, Homepage URL: http://www.missingvalue.com\n",
            "Company Name: Svensk Sjöföda AB, Homepage URL: None\n",
            "Company Name: Aux joyeux ecclésiastiques, Homepage URL: None\n",
            "Company Name: New England Seafood Cannery, Homepage URL: http://www.missingvalue.com\n",
            "Company Name: Leka Trading, Homepage URL: http://www.missingvalue.com\n",
            "Company Name: Lyngbysild, Homepage URL: http://www.missingvalue.com\n",
            "Company Name: Zaanse Snoepfabriek, Homepage URL: http://www.missingvalue.com\n",
            "Company Name: Karkki Oy, Homepage URL: http://www.missingvalue.com\n",
            "Company Name: G'day, Mate, Homepage URL: G'day Mate (on the World Wide Web)#http://www.microsoft.com/accessdev/sampleapps/gdaymate.htm#\n",
            "Company Name: Ma Maison, Homepage URL: http://www.missingvalue.com\n",
            "Company Name: Pasta Buttini s.r.l., Homepage URL: http://www.missingvalue.com\n",
            "Company Name: Escargots Nouveaux, Homepage URL: http://www.missingvalue.com\n",
            "Company Name: Gai pâturage, Homepage URL: None\n",
            "Company Name: Forêts d'érables, Homepage URL: None\n"
          ],
          "name": "stdout"
        }
      ]
    },
    {
      "cell_type": "code",
      "metadata": {
        "id": "AoqLV1yEkzYY",
        "colab": {
          "base_uri": "https://localhost:8080/"
        },
        "outputId": "fbd6cea7-c481-4666-cc6f-a71b556fc8ce"
      },
      "source": [
        "# Part 9\n",
        "\n",
        "pd.DataFrame.from_dict(list_of_suppliers).to_excel(\"matchedURLs.xlsx\")\n",
        "print(\"Done!\")"
      ],
      "execution_count": null,
      "outputs": [
        {
          "output_type": "stream",
          "text": [
            "Done!\n"
          ],
          "name": "stdout"
        }
      ]
    }
  ]
}