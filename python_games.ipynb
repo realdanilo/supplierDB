{
  "nbformat": 4,
  "nbformat_minor": 0,
  "metadata": {
    "colab": {
      "name": "python games.ipynb",
      "provenance": [],
      "collapsed_sections": []
    },
    "kernelspec": {
      "name": "python3",
      "display_name": "Python 3"
    }
  },
  "cells": [
    {
      "cell_type": "code",
      "metadata": {
        "id": "yaX5NGAkskUq"
      },
      "source": [
        "# Calculate Area \n",
        "# \n",
        "# \n",
        "from random import randrange\n",
        "\n",
        "print(\"calculate area of circle\")\n",
        "rad = float(input(\"Enter radious: \"))\n",
        "area  = (3.14)*((rad)**2)\n",
        "print(\"The area is\",area)"
      ],
      "execution_count": null,
      "outputs": []
    },
    {
      "cell_type": "code",
      "metadata": {
        "id": "lKKD9lkMjRqF"
      },
      "source": [
        "upTo = int(input(\"Enter a number, max 100: \"))\n",
        "# upTo+1\n",
        "for i in range(1, upTo+1):\n",
        "  if(i%5==0 and i%3==0):\n",
        "    print(i,\"Fizz Buzz\")\n",
        "  elif(i %3 ==0):\n",
        "    print(i,\"Fizz\")\n",
        "  elif(i%5==0):\n",
        "    print(i,\"Buzz\")\n",
        "  else:\n",
        "    print(i)"
      ],
      "execution_count": null,
      "outputs": []
    },
    {
      "cell_type": "code",
      "metadata": {
        "id": "5VrMuk2tmf2v"
      },
      "source": [
        "# To Do game\n",
        "# \n",
        "# \n",
        "\n",
        "myList = []\n",
        "print(\"To close type 'exit' \")\n",
        "\n",
        "while True:\n",
        "  newWord = input(\"Enter a todo:\\n \")\n",
        "  if(newWord.find(\"exit\")==0):\n",
        "    break\n",
        "  myList.append(newWord)\n",
        "\n",
        "print(f\"\\nYou have {len(myList)} things to do:\")\n",
        "for j in myList:\n",
        "  print(\"\\t\",j)\n",
        "# print(myList)\n",
        "\n"
      ],
      "execution_count": null,
      "outputs": []
    },
    {
      "cell_type": "code",
      "metadata": {
        "id": "mO8zlig-Crbv"
      },
      "source": [
        "# Guess Game\n",
        "# \n",
        "# \n",
        "\n",
        "randomNum = randrange(1, 101)\n",
        "lives = 5\n",
        "\n",
        "while(lives>0):\n",
        "  entry = int(input(\"Guess number: \"))\n",
        "  if(entry != randomNum):\n",
        "    lives = lives -1\n",
        "    print(f\"Nop, you have {lives} lives left\")\n",
        "    if(entry > randomNum): \n",
        "      print(\"Your guess was too high\")\n",
        "    else:\n",
        "      print(\"Your guess was too low\")\n",
        "  else:\n",
        "    print(\"You guess was correct\")\n",
        "    break\n",
        "\n",
        "if(lives == 0):\n",
        "  print(\"the correct number was\", randomNum)"
      ],
      "execution_count": null,
      "outputs": []
    },
    {
      "cell_type": "code",
      "metadata": {
        "id": "Xbixj3ZXtnOQ",
        "colab": {
          "base_uri": "https://localhost:8080/"
        },
        "outputId": "62f604bc-29d3-4e8a-b52d-0ad88085285e"
      },
      "source": [
        "# Lotto lucky numbers\n",
        "# nubers cant repeat, be twice\n",
        "def luckyNumberGenerator():\n",
        "  print(\"Generating Lucky Numbers!\")\n",
        "  left =5\n",
        "  luckyList =[]\n",
        "  while (left > 0):\n",
        "    randomNumber = randrange(1,53)\n",
        "    if( randomNumber not in luckyList):\n",
        "      luckyList.append(randomNumber)\n",
        "      left -=1\n",
        "\n",
        "  return sorted(luckyList)\n",
        "\n",
        "luckyNumberGenerator()\n",
        "\n",
        "\n",
        "\n",
        "\n",
        "  "
      ],
      "execution_count": null,
      "outputs": [
        {
          "output_type": "stream",
          "text": [
            "Generating Lucky Numbers!\n"
          ],
          "name": "stdout"
        },
        {
          "output_type": "execute_result",
          "data": {
            "text/plain": [
              "[25, 26, 28, 36, 39]"
            ]
          },
          "metadata": {
            "tags": []
          },
          "execution_count": 104
        }
      ]
    }
  ]
}